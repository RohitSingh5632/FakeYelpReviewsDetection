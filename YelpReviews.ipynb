{
  "cells": [
    {
      "cell_type": "code",
      "execution_count": 125,
      "metadata": {
        "colab": {
          "base_uri": "https://localhost:8080/"
        },
        "id": "rrykOda5fdJb",
        "outputId": "25315afa-cec0-4252-e5b2-9ede9300d091"
      },
      "outputs": [
        {
          "output_type": "stream",
          "name": "stdout",
          "text": [
            "Drive already mounted at /content/drive; to attempt to forcibly remount, call drive.mount(\"/content/drive\", force_remount=True).\n"
          ]
        }
      ],
      "source": [
        "'''\n",
        "We are integrating the Google Drive into the Colab environment system.\n",
        "'''\n",
        "# Mount Google Drive\n",
        "from google.colab import drive\n",
        "drive.mount('/content/drive')"
      ]
    },
    {
      "cell_type": "code",
      "execution_count": 126,
      "metadata": {
        "id": "-fxMldW_OKFN"
      },
      "outputs": [],
      "source": [
        "'''\n",
        "\n",
        "Importing popular Python libraries including pandas, numpy, matplotlib.pyplot, seaborn, etc\n",
        "for data analysis\n",
        "\n",
        "'''\n",
        "\n",
        "# Imports\n",
        "import pandas as pd\n",
        "import numpy as np\n",
        "import matplotlib.pyplot as plt\n",
        "import seaborn as sns\n",
        "import re\n",
        "import nltk\n",
        "import pylab as pl\n",
        "from sklearn.model_selection import train_test_split\n",
        "from pandas import *\n",
        "from keras.optimizers import SGD\n",
        "from sklearn.preprocessing import MinMaxScaler\n",
        "from sklearn.metrics import mean_squared_error"
      ]
    },
    {
      "cell_type": "code",
      "execution_count": 127,
      "metadata": {
        "colab": {
          "base_uri": "https://localhost:8080/",
          "height": 206
        },
        "id": "hPVR-jOcRjta",
        "outputId": "387d995f-69f6-4f56-d3c8-7ebf56ff4b24"
      },
      "outputs": [
        {
          "output_type": "execute_result",
          "data": {
            "text/plain": [
              "   Rating                                             Review  Real\n",
              "0       3  The food at snack is a selection of popular Gr...     0\n",
              "1       3  This little place in Soho is wonderful. I had ...     0\n",
              "2       4  ordered lunch for 15 from Snack last Friday. Â...     0\n",
              "3       4  This is a beautiful quaint little restaurant o...     0\n",
              "4       4  Snack is great place for a Â casual sit down l...     0"
            ],
            "text/html": [
              "\n",
              "  <div id=\"df-ad7bd4b3-2766-478a-9e9f-9edbfb72c362\" class=\"colab-df-container\">\n",
              "    <div>\n",
              "<style scoped>\n",
              "    .dataframe tbody tr th:only-of-type {\n",
              "        vertical-align: middle;\n",
              "    }\n",
              "\n",
              "    .dataframe tbody tr th {\n",
              "        vertical-align: top;\n",
              "    }\n",
              "\n",
              "    .dataframe thead th {\n",
              "        text-align: right;\n",
              "    }\n",
              "</style>\n",
              "<table border=\"1\" class=\"dataframe\">\n",
              "  <thead>\n",
              "    <tr style=\"text-align: right;\">\n",
              "      <th></th>\n",
              "      <th>Rating</th>\n",
              "      <th>Review</th>\n",
              "      <th>Real</th>\n",
              "    </tr>\n",
              "  </thead>\n",
              "  <tbody>\n",
              "    <tr>\n",
              "      <th>0</th>\n",
              "      <td>3</td>\n",
              "      <td>The food at snack is a selection of popular Gr...</td>\n",
              "      <td>0</td>\n",
              "    </tr>\n",
              "    <tr>\n",
              "      <th>1</th>\n",
              "      <td>3</td>\n",
              "      <td>This little place in Soho is wonderful. I had ...</td>\n",
              "      <td>0</td>\n",
              "    </tr>\n",
              "    <tr>\n",
              "      <th>2</th>\n",
              "      <td>4</td>\n",
              "      <td>ordered lunch for 15 from Snack last Friday. Â...</td>\n",
              "      <td>0</td>\n",
              "    </tr>\n",
              "    <tr>\n",
              "      <th>3</th>\n",
              "      <td>4</td>\n",
              "      <td>This is a beautiful quaint little restaurant o...</td>\n",
              "      <td>0</td>\n",
              "    </tr>\n",
              "    <tr>\n",
              "      <th>4</th>\n",
              "      <td>4</td>\n",
              "      <td>Snack is great place for a Â casual sit down l...</td>\n",
              "      <td>0</td>\n",
              "    </tr>\n",
              "  </tbody>\n",
              "</table>\n",
              "</div>\n",
              "    <div class=\"colab-df-buttons\">\n",
              "\n",
              "  <div class=\"colab-df-container\">\n",
              "    <button class=\"colab-df-convert\" onclick=\"convertToInteractive('df-ad7bd4b3-2766-478a-9e9f-9edbfb72c362')\"\n",
              "            title=\"Convert this dataframe to an interactive table.\"\n",
              "            style=\"display:none;\">\n",
              "\n",
              "  <svg xmlns=\"http://www.w3.org/2000/svg\" height=\"24px\" viewBox=\"0 -960 960 960\">\n",
              "    <path d=\"M120-120v-720h720v720H120Zm60-500h600v-160H180v160Zm220 220h160v-160H400v160Zm0 220h160v-160H400v160ZM180-400h160v-160H180v160Zm440 0h160v-160H620v160ZM180-180h160v-160H180v160Zm440 0h160v-160H620v160Z\"/>\n",
              "  </svg>\n",
              "    </button>\n",
              "\n",
              "  <style>\n",
              "    .colab-df-container {\n",
              "      display:flex;\n",
              "      gap: 12px;\n",
              "    }\n",
              "\n",
              "    .colab-df-convert {\n",
              "      background-color: #E8F0FE;\n",
              "      border: none;\n",
              "      border-radius: 50%;\n",
              "      cursor: pointer;\n",
              "      display: none;\n",
              "      fill: #1967D2;\n",
              "      height: 32px;\n",
              "      padding: 0 0 0 0;\n",
              "      width: 32px;\n",
              "    }\n",
              "\n",
              "    .colab-df-convert:hover {\n",
              "      background-color: #E2EBFA;\n",
              "      box-shadow: 0px 1px 2px rgba(60, 64, 67, 0.3), 0px 1px 3px 1px rgba(60, 64, 67, 0.15);\n",
              "      fill: #174EA6;\n",
              "    }\n",
              "\n",
              "    .colab-df-buttons div {\n",
              "      margin-bottom: 4px;\n",
              "    }\n",
              "\n",
              "    [theme=dark] .colab-df-convert {\n",
              "      background-color: #3B4455;\n",
              "      fill: #D2E3FC;\n",
              "    }\n",
              "\n",
              "    [theme=dark] .colab-df-convert:hover {\n",
              "      background-color: #434B5C;\n",
              "      box-shadow: 0px 1px 3px 1px rgba(0, 0, 0, 0.15);\n",
              "      filter: drop-shadow(0px 1px 2px rgba(0, 0, 0, 0.3));\n",
              "      fill: #FFFFFF;\n",
              "    }\n",
              "  </style>\n",
              "\n",
              "    <script>\n",
              "      const buttonEl =\n",
              "        document.querySelector('#df-ad7bd4b3-2766-478a-9e9f-9edbfb72c362 button.colab-df-convert');\n",
              "      buttonEl.style.display =\n",
              "        google.colab.kernel.accessAllowed ? 'block' : 'none';\n",
              "\n",
              "      async function convertToInteractive(key) {\n",
              "        const element = document.querySelector('#df-ad7bd4b3-2766-478a-9e9f-9edbfb72c362');\n",
              "        const dataTable =\n",
              "          await google.colab.kernel.invokeFunction('convertToInteractive',\n",
              "                                                    [key], {});\n",
              "        if (!dataTable) return;\n",
              "\n",
              "        const docLinkHtml = 'Like what you see? Visit the ' +\n",
              "          '<a target=\"_blank\" href=https://colab.research.google.com/notebooks/data_table.ipynb>data table notebook</a>'\n",
              "          + ' to learn more about interactive tables.';\n",
              "        element.innerHTML = '';\n",
              "        dataTable['output_type'] = 'display_data';\n",
              "        await google.colab.output.renderOutput(dataTable, element);\n",
              "        const docLink = document.createElement('div');\n",
              "        docLink.innerHTML = docLinkHtml;\n",
              "        element.appendChild(docLink);\n",
              "      }\n",
              "    </script>\n",
              "  </div>\n",
              "\n",
              "\n",
              "<div id=\"df-737e7380-3972-4330-b2c7-500b8efba21b\">\n",
              "  <button class=\"colab-df-quickchart\" onclick=\"quickchart('df-737e7380-3972-4330-b2c7-500b8efba21b')\"\n",
              "            title=\"Suggest charts.\"\n",
              "            style=\"display:none;\">\n",
              "\n",
              "<svg xmlns=\"http://www.w3.org/2000/svg\" height=\"24px\"viewBox=\"0 0 24 24\"\n",
              "     width=\"24px\">\n",
              "    <g>\n",
              "        <path d=\"M19 3H5c-1.1 0-2 .9-2 2v14c0 1.1.9 2 2 2h14c1.1 0 2-.9 2-2V5c0-1.1-.9-2-2-2zM9 17H7v-7h2v7zm4 0h-2V7h2v10zm4 0h-2v-4h2v4z\"/>\n",
              "    </g>\n",
              "</svg>\n",
              "  </button>\n",
              "\n",
              "<style>\n",
              "  .colab-df-quickchart {\n",
              "      --bg-color: #E8F0FE;\n",
              "      --fill-color: #1967D2;\n",
              "      --hover-bg-color: #E2EBFA;\n",
              "      --hover-fill-color: #174EA6;\n",
              "      --disabled-fill-color: #AAA;\n",
              "      --disabled-bg-color: #DDD;\n",
              "  }\n",
              "\n",
              "  [theme=dark] .colab-df-quickchart {\n",
              "      --bg-color: #3B4455;\n",
              "      --fill-color: #D2E3FC;\n",
              "      --hover-bg-color: #434B5C;\n",
              "      --hover-fill-color: #FFFFFF;\n",
              "      --disabled-bg-color: #3B4455;\n",
              "      --disabled-fill-color: #666;\n",
              "  }\n",
              "\n",
              "  .colab-df-quickchart {\n",
              "    background-color: var(--bg-color);\n",
              "    border: none;\n",
              "    border-radius: 50%;\n",
              "    cursor: pointer;\n",
              "    display: none;\n",
              "    fill: var(--fill-color);\n",
              "    height: 32px;\n",
              "    padding: 0;\n",
              "    width: 32px;\n",
              "  }\n",
              "\n",
              "  .colab-df-quickchart:hover {\n",
              "    background-color: var(--hover-bg-color);\n",
              "    box-shadow: 0 1px 2px rgba(60, 64, 67, 0.3), 0 1px 3px 1px rgba(60, 64, 67, 0.15);\n",
              "    fill: var(--button-hover-fill-color);\n",
              "  }\n",
              "\n",
              "  .colab-df-quickchart-complete:disabled,\n",
              "  .colab-df-quickchart-complete:disabled:hover {\n",
              "    background-color: var(--disabled-bg-color);\n",
              "    fill: var(--disabled-fill-color);\n",
              "    box-shadow: none;\n",
              "  }\n",
              "\n",
              "  .colab-df-spinner {\n",
              "    border: 2px solid var(--fill-color);\n",
              "    border-color: transparent;\n",
              "    border-bottom-color: var(--fill-color);\n",
              "    animation:\n",
              "      spin 1s steps(1) infinite;\n",
              "  }\n",
              "\n",
              "  @keyframes spin {\n",
              "    0% {\n",
              "      border-color: transparent;\n",
              "      border-bottom-color: var(--fill-color);\n",
              "      border-left-color: var(--fill-color);\n",
              "    }\n",
              "    20% {\n",
              "      border-color: transparent;\n",
              "      border-left-color: var(--fill-color);\n",
              "      border-top-color: var(--fill-color);\n",
              "    }\n",
              "    30% {\n",
              "      border-color: transparent;\n",
              "      border-left-color: var(--fill-color);\n",
              "      border-top-color: var(--fill-color);\n",
              "      border-right-color: var(--fill-color);\n",
              "    }\n",
              "    40% {\n",
              "      border-color: transparent;\n",
              "      border-right-color: var(--fill-color);\n",
              "      border-top-color: var(--fill-color);\n",
              "    }\n",
              "    60% {\n",
              "      border-color: transparent;\n",
              "      border-right-color: var(--fill-color);\n",
              "    }\n",
              "    80% {\n",
              "      border-color: transparent;\n",
              "      border-right-color: var(--fill-color);\n",
              "      border-bottom-color: var(--fill-color);\n",
              "    }\n",
              "    90% {\n",
              "      border-color: transparent;\n",
              "      border-bottom-color: var(--fill-color);\n",
              "    }\n",
              "  }\n",
              "</style>\n",
              "\n",
              "  <script>\n",
              "    async function quickchart(key) {\n",
              "      const quickchartButtonEl =\n",
              "        document.querySelector('#' + key + ' button');\n",
              "      quickchartButtonEl.disabled = true;  // To prevent multiple clicks.\n",
              "      quickchartButtonEl.classList.add('colab-df-spinner');\n",
              "      try {\n",
              "        const charts = await google.colab.kernel.invokeFunction(\n",
              "            'suggestCharts', [key], {});\n",
              "      } catch (error) {\n",
              "        console.error('Error during call to suggestCharts:', error);\n",
              "      }\n",
              "      quickchartButtonEl.classList.remove('colab-df-spinner');\n",
              "      quickchartButtonEl.classList.add('colab-df-quickchart-complete');\n",
              "    }\n",
              "    (() => {\n",
              "      let quickchartButtonEl =\n",
              "        document.querySelector('#df-737e7380-3972-4330-b2c7-500b8efba21b button');\n",
              "      quickchartButtonEl.style.display =\n",
              "        google.colab.kernel.accessAllowed ? 'block' : 'none';\n",
              "    })();\n",
              "  </script>\n",
              "</div>\n",
              "    </div>\n",
              "  </div>\n"
            ]
          },
          "metadata": {},
          "execution_count": 127
        }
      ],
      "source": [
        "\n",
        "'''\n",
        "\n",
        "In this section, we load, preprocess and store a CSV file dataset\n",
        "We use the pd.read_csv() function so that the program subsequently reads the CSV file\n",
        "\n",
        "Finally, use the df.head() approach to produce an additional DataFrame\n",
        "containing the specified number of rows from the top\n",
        "\n",
        "'''\n",
        "\n",
        "# load csv\n",
        "df = pd.read_csv\n",
        "df = pd.read_csv(\"/content/drive/Shareddrives/ECS 171 Group Project/Labelled Yelp Dataset.csv\")\n",
        "df = df.drop(columns = ['User_id', 'Product_id', 'Date'])  # Drop uneeded columns\n",
        "df['Label'].replace([-1], [0], inplace=True)\n",
        "df = df.rename(columns={\"Label\" : \"Real\"})  # Rename column\n",
        "df.head()"
      ]
    },
    {
      "cell_type": "code",
      "execution_count": 128,
      "metadata": {
        "colab": {
          "base_uri": "https://localhost:8080/",
          "height": 478
        },
        "id": "opUswYvLOQiz",
        "outputId": "a1c45f64-c5bd-4b8e-d483-1707b75acdbc"
      },
      "outputs": [
        {
          "output_type": "display_data",
          "data": {
            "text/plain": [
              "<Figure size 640x480 with 2 Axes>"
            ],
            "image/png": "[encoded data removed]"
          },
          "metadata": {}
        }
      ],
      "source": [
        "'''\n",
        "\n",
        "In this section, Using several libraries for data visualization,\n",
        "we are building a histogram of data in the dataframe by employing the df.plot() method\n",
        "\n",
        "We additionally apply parameters that satisfy the specifications of a suitable histogram,\n",
        "which consists of separate plots for each group on the x and y axes,\n",
        "as well as title of \"Rating Frequencies\" for fake and real reviews in the graph\n",
        "\n",
        "'''\n",
        "\n",
        "# Histogram\n",
        "\n",
        "'''\n",
        "\n",
        "Creating dataframe named histo_df\n",
        "\n",
        "'''\n",
        "histo_df = df\n",
        "hist = df.plot(kind=\"hist\", by=\"Real\", subplots=True, sharex=True, sharey=True, title=\"Rating Frequencies\")"
      ]
    },
    {
      "cell_type": "code",
      "execution_count": 129,
      "metadata": {
        "colab": {
          "base_uri": "https://localhost:8080/",
          "height": 510
        },
        "id": "7BuodNu7aj1V",
        "outputId": "dd653ec4-2e3b-4802-8480-4d5210f04963"
      },
      "outputs": [
        {
          "output_type": "stream",
          "name": "stderr",
          "text": [
            "<ipython-input-129-347e7c0426cb>:31: FutureWarning: The default value of numeric_only in DataFrame.corr is deprecated. In a future version, it will default to False. Select only valid columns or specify the value of numeric_only to silence this warning.\n",
            "  sns.heatmap(df.corr(), cmap = cmap, annot = True, vmin = -1, vmax = 1, center = 0)\n"
          ]
        },
        {
          "output_type": "execute_result",
          "data": {
            "text/plain": [
              "'\\n\\nUpon execution, the function displays the heatmap on the screen.\\n\\n'"
            ],
            "application/vnd.google.colaboratory.intrinsic+json": {
              "type": "string"
            }
          },
          "metadata": {},
          "execution_count": 129
        },
        {
          "output_type": "display_data",
          "data": {
            "text/plain": [
              "<Figure size 640x480 with 2 Axes>"
            ],
            "image/png": "[encoded data removed]"
          },
          "metadata": {}
        }
      ],
      "source": [
        "'''\n",
        "\n",
        "This reads a CSV file into the pandas DataFrame and plots a heatmap of the correlation matrix\n",
        "using the sns.heatmap() function\n",
        "\n",
        "'''\n",
        "\n",
        "# Matrix\n",
        "\n",
        "'''\n",
        "\n",
        "We use the pd.read_csv() function which takes the path of the CSV file\n",
        "as an argument and returns a DataFrame object\n",
        "\n",
        "We then assign the DataFrame object to a variable called df\n",
        "in order to access or modify the data\n",
        "\n",
        "\n",
        "'''\n",
        "df = pd.read_csv(\"/content/drive/Shareddrives/ECS 171 Group Project/Labelled Yelp Dataset.csv\")\n",
        "\n",
        "'''\n",
        "\n",
        "In this case, we are using the Seaborn library to create a heatmap of the correlation matrix of a DataFrame\n",
        "It also creates a color palette using the sns.diverging_palette() function which are used to display data visually\n",
        "\n",
        "'''\n",
        "\n",
        "# plots a heatmap\n",
        "cmap = sns.diverging_palette(230, 20, as_cmap = True)\n",
        "sns.heatmap(df.corr(), cmap = cmap, annot = True, vmin = -1, vmax = 1, center = 0)\n",
        "\n",
        "# non much useful informaiton found from the raw data, since they are pure text, need more study, like tf-idf to show the data in numbers.\n",
        "\n",
        "'''\n",
        "df.corr():  a method that calculates the correlation matrix of the DataFrame df.\n",
        "A correlation value where -\n",
        "-1 means a perfect negative relationship\n",
        "0 means no relationship,\n",
        "1 means a perfect positive relationship.\n",
        "\n",
        "Cmap : color map argument that tells the function what colors to use for the heatmap.\n",
        "In this case it uses the palette object thaw we created before.\n",
        "\n",
        "annot : is a  boolean argument that tells the function whether to show the values on the heatmap or not.\n",
        "\n",
        "vmin meaning the minimum value for the color scale.\n",
        "Here, vmin = -1 means that any value below -1 will be shown with the same color as -1.\n",
        "\n",
        "vmax meaning the maximum value for the color scale.\n",
        "Here, vmax = 1 means that any value above 1 will be shown with the same color as 1.\n",
        "\n",
        "Center meaning the center value for the color scale.\n",
        "Here, our center = 0 means that any value equal to 0 will be shown with a neutral color.\n",
        "\n",
        "'''\n",
        "\n",
        "\n",
        "\n",
        "'''\n",
        "\n",
        "Upon execution, the function displays the heatmap on the screen.\n",
        "\n",
        "'''"
      ]
    },
    {
      "cell_type": "code",
      "execution_count": 130,
      "metadata": {
        "colab": {
          "base_uri": "https://localhost:8080/",
          "height": 531
        },
        "id": "NgvOAnAE0BSI",
        "outputId": "20d90698-6ed2-4f3c-9102-f8c2abc455a8"
      },
      "outputs": [
        {
          "output_type": "execute_result",
          "data": {
            "text/plain": [
              "<seaborn.axisgrid.PairGrid at 0x7ddcfe013f10>"
            ]
          },
          "metadata": {},
          "execution_count": 130
        },
        {
          "output_type": "display_data",
          "data": {
            "text/plain": [
              "<Figure size 500x500 with 6 Axes>"
            ],
            "image/png": "[encoded data removed]"
          },
          "metadata": {}
        }
      ],
      "source": [
        "'''\n",
        "\n",
        "Reads a CSV file to a pandas DataFrame\n",
        "\n",
        "'''\n",
        "\n",
        "# Load data set\n",
        "df = pd.read_csv('/content/drive/Shareddrives/ECS 171 Group Project/Labelled Yelp Dataset.csv')\n",
        "\n",
        "\n",
        "'''\n",
        "\n",
        "We assign a DataFrame object to a variable\n",
        "\n",
        "'''\n",
        "\n",
        "# Drop non numerical data to create scatter plots\n",
        "df = df.drop(columns = ['User_id', 'Product_id', 'Date'])\n",
        "\n",
        "\n",
        "'''\n",
        "We create a pairplot to display multiple scatter plots in a grid.\n",
        "\n",
        "We use the sns.pairplot() method to build a pairplot that depicts the paired relationships\n",
        "between variables in the DataFrame.\n",
        "\n",
        "We also take arguments that determine the characteristics of the pairplot,\n",
        "which includes the data itself, the kind of plot, the format and appearance of the plot, etc.\n",
        "\n",
        "'''\n",
        "# Create pairplot to show all scatter plots\n",
        "sns.pairplot(df, kind=\"scatter\", plot_kws=dict(alpha=0.5, s=50), diag_kind='kde')\n",
        "\n"
      ]
    },
    {
      "cell_type": "code",
      "execution_count": 59,
      "metadata": {
        "colab": {
          "base_uri": "https://localhost:8080/"
        },
        "id": "CcISsrpBrhYT",
        "outputId": "9d765a35-2786-47f0-bbcf-54573d12b71b"
      },
      "outputs": [
        {
          "name": "stdout",
          "output_type": "stream",
          "text": [
            "NLTK Downloader\n",
            "---------------------------------------------------------------------------\n",
            "    d) Download   l) List    u) Update   c) Config   h) Help   q) Quit\n",
            "---------------------------------------------------------------------------\n",
            "Downloader> d\n",
            "\n",
            "Download which package (l=list; x=cancel)?\n",
            "  Identifier> stopwords\n"
          ]
        },
        {
          "output_type": "stream",
          "name": "stderr",
          "text": [
            "    Downloading package stopwords to /root/nltk_data...\n",
            "      Package stopwords is already up-to-date!\n"
          ]
        },
        {
          "name": "stdout",
          "output_type": "stream",
          "text": [
            "\n",
            "---------------------------------------------------------------------------\n",
            "    d) Download   l) List    u) Update   c) Config   h) Help   q) Quit\n",
            "---------------------------------------------------------------------------\n",
            "Downloader> q\n"
          ]
        },
        {
          "output_type": "execute_result",
          "data": {
            "text/plain": [
              "True"
            ]
          },
          "metadata": {},
          "execution_count": 59
        }
      ],
      "source": [
        "nltk.download()\n",
        "#step 1: type 'd' , press enter\n",
        "#step 2: type 'stopwords' , press enter\n",
        "#step 3: type 'q' , press enter"
      ]
    },
    {
      "cell_type": "code",
      "execution_count": 131,
      "metadata": {
        "colab": {
          "base_uri": "https://localhost:8080/"
        },
        "id": "ULwqAxOGlkI1",
        "outputId": "3256765d-26e3-4e8b-86e9-c7e5cca671d0"
      },
      "outputs": [
        {
          "output_type": "stream",
          "name": "stderr",
          "text": [
            "<ipython-input-131-87c43ef58a41>:22: SettingWithCopyWarning: \n",
            "A value is trying to be set on a copy of a slice from a DataFrame.\n",
            "Try using .loc[row_indexer,col_indexer] = value instead\n",
            "\n",
            "See the caveats in the documentation: https://pandas.pydata.org/pandas-docs/stable/user_guide/indexing.html#returning-a-view-versus-a-copy\n",
            "  temp['Review'] = temp['Review'].apply(lambda x: ' '.join(x.lower() for x in str(x).split()))\n",
            "<ipython-input-131-87c43ef58a41>:25: SettingWithCopyWarning: \n",
            "A value is trying to be set on a copy of a slice from a DataFrame.\n",
            "Try using .loc[row_indexer,col_indexer] = value instead\n",
            "\n",
            "See the caveats in the documentation: https://pandas.pydata.org/pandas-docs/stable/user_guide/indexing.html#returning-a-view-versus-a-copy\n",
            "  temp['Review']=temp['Review'].apply(lambda x: ' '.join([x for x in x.split() if x not in stop]))\n",
            "<ipython-input-131-87c43ef58a41>:27: SettingWithCopyWarning: \n",
            "A value is trying to be set on a copy of a slice from a DataFrame.\n",
            "Try using .loc[row_indexer,col_indexer] = value instead\n",
            "\n",
            "See the caveats in the documentation: https://pandas.pydata.org/pandas-docs/stable/user_guide/indexing.html#returning-a-view-versus-a-copy\n",
            "  temp['Review']=temp['Review'].apply(lambda x: re.sub(r'[0-9]+', '', x))\n",
            "<ipython-input-131-87c43ef58a41>:29: MarkupResemblesLocatorWarning: The input looks more like a filename than markup. You may want to open this file and pass the filehandle into Beautiful Soup.\n",
            "  temp['Review']=temp['Review'].apply(lambda x: BeautifulSoup(x).get_text())\n",
            "<ipython-input-131-87c43ef58a41>:29: SettingWithCopyWarning: \n",
            "A value is trying to be set on a copy of a slice from a DataFrame.\n",
            "Try using .loc[row_indexer,col_indexer] = value instead\n",
            "\n",
            "See the caveats in the documentation: https://pandas.pydata.org/pandas-docs/stable/user_guide/indexing.html#returning-a-view-versus-a-copy\n",
            "  temp['Review']=temp['Review'].apply(lambda x: BeautifulSoup(x).get_text())\n",
            "<ipython-input-131-87c43ef58a41>:30: SettingWithCopyWarning: \n",
            "A value is trying to be set on a copy of a slice from a DataFrame.\n",
            "Try using .loc[row_indexer,col_indexer] = value instead\n",
            "\n",
            "See the caveats in the documentation: https://pandas.pydata.org/pandas-docs/stable/user_guide/indexing.html#returning-a-view-versus-a-copy\n",
            "  temp['Review']=temp['Review'].apply(lambda x: re.sub(r'http\\S+', '', x))\n",
            "<ipython-input-131-87c43ef58a41>:32: SettingWithCopyWarning: \n",
            "A value is trying to be set on a copy of a slice from a DataFrame.\n",
            "Try using .loc[row_indexer,col_indexer] = value instead\n",
            "\n",
            "See the caveats in the documentation: https://pandas.pydata.org/pandas-docs/stable/user_guide/indexing.html#returning-a-view-versus-a-copy\n",
            "  temp['Review']=temp['Review'].apply(lambda x: re.sub(r'[^\\w\\s]', '', x))\n"
          ]
        }
      ],
      "source": [
        "from nltk.corpus import stopwords\n",
        "from bs4 import BeautifulSoup\n",
        "\n",
        "temp = df[0:5000]\n",
        "\n",
        "'''\n",
        "\n",
        "\n",
        "We have carried out numerous text preprocessing processes\n",
        "on the 'Review' column in the DataFrame df in order to\n",
        "clean and prepare text data for subsequent analysis\n",
        "\n",
        "Here, we are first converting all the text to lower case and\n",
        "removing common english stopwords digits, URL's,\n",
        "punctuation marks, special characters and several entities\n",
        "from the 'Review' text\n",
        "\n",
        "'''\n",
        "\n",
        "# FOR ---------> REVEIWS\n",
        "#converts upper case letters to lower case letters\n",
        "temp['Review'] = temp['Review'].apply(lambda x: ' '.join(x.lower() for x in str(x).split()))\n",
        "#removes common words such as (i, before, to, between, then, etc.)\n",
        "stop = stopwords.words('english')\n",
        "temp['Review']=temp['Review'].apply(lambda x: ' '.join([x for x in x.split() if x not in stop]))\n",
        "#removes numbers\n",
        "temp['Review']=temp['Review'].apply(lambda x: re.sub(r'[0-9]+', '', x))\n",
        "#removes URLs\n",
        "temp['Review']=temp['Review'].apply(lambda x: BeautifulSoup(x).get_text())\n",
        "temp['Review']=temp['Review'].apply(lambda x: re.sub(r'http\\S+', '', x))\n",
        "#removes punctuations\n",
        "temp['Review']=temp['Review'].apply(lambda x: re.sub(r'[^\\w\\s]', '', x))"
      ]
    },
    {
      "cell_type": "markdown",
      "metadata": {
        "id": "H5qsdTfJIxSP"
      },
      "source": [
        "# **TF-IDF**"
      ]
    },
    {
      "cell_type": "code",
      "execution_count": 132,
      "metadata": {
        "id": "J_327u7TIzl0"
      },
      "outputs": [],
      "source": [
        "'''\n",
        "\n",
        "In this particular instance, we use the scikit-learn library's Tfidf Vectorizer class to transform\n",
        "a set of textual information to a matrix of TF-IDF (Term Frequency-Inverse Document Frequency) characteristics\n",
        "\n",
        "We are creating a class called TfidfVectorizer in order to\n",
        "convert the text data into TF_IDF characteristics like vectoriaztion\n",
        "\n",
        "'''\n",
        "\n",
        "from sklearn.feature_extraction.text import TfidfVectorizer\n",
        "vectorizer= TfidfVectorizer()\n",
        "reviews_text = vectorizer.fit_transform(temp['Review'])"
      ]
    },
    {
      "cell_type": "code",
      "execution_count": 134,
      "metadata": {
        "id": "KHu8mFyXZyLw"
      },
      "outputs": [],
      "source": [
        "'''\n",
        "\n",
        "we are transforming the matrix with a sparse structure reviews_text\n",
        "through an abundant NumPy array by employing a text vectorization approach using TF-IDF and function reviews_text.toarray()\n",
        "\n",
        "'''\n",
        "\n",
        "reviews_text_array = reviews_text.toarray()"
      ]
    },
    {
      "cell_type": "code",
      "execution_count": 135,
      "metadata": {
        "id": "I9jHSgkkWh1I"
      },
      "outputs": [],
      "source": [
        "# Shrink data set\n",
        "df = df[0:5000]"
      ]
    },
    {
      "cell_type": "code",
      "execution_count": 136,
      "metadata": {
        "id": "ZN_uiyo1TOBH"
      },
      "outputs": [],
      "source": [
        "'''\n",
        "\n",
        "For splitting the data set between training and testing sets, we apply the train_test_split function from the scikit-learn machine learning toolkit\n",
        "\n",
        "we use reviews_text_array for importing data into a machine learning model\n",
        "Every component is a text-based feature for the purpose of classification\n",
        "\n",
        "With the help of parameters, we specify how to partition the dataset such that 90% of the data\n",
        "will be used as the training set for training the machine learning model, and 10% of the data will be used to evaluate its performance\n",
        "\n",
        "'''\n",
        "\n",
        "train_X,test_X,train_y,test_y = train_test_split(reviews_text_array, temp['Label'], train_size=0.9, random_state=0)  # Split Data"
      ]
    },
    {
      "cell_type": "code",
      "execution_count": 137,
      "metadata": {
        "colab": {
          "base_uri": "https://localhost:8080/",
          "height": 108
        },
        "id": "dPqVWIUd71PG",
        "outputId": "891c8f09-f80f-4eaa-c3a6-5869c54e4f4f"
      },
      "outputs": [
        {
          "output_type": "execute_result",
          "data": {
            "text/plain": [
              "'%matplotlib inline\\nfrom sklearn.linear_model import Ridge\\n\\nridge_model = Ridge()\\nridge_model.fit(train_X, train_y)\\n\\n\\ntest_predictions = ridge_model.predict(test_X)\\ntrain_predictions = ridge_model.predict(train_X)\\n\\n\\nfrom sklearn.model_selection import GridSearchCV\\nestimator = Ridge()\\nestimator = Ridge()\\nparam_grid = {\"alpha\":list(range(1,11))}\\nmodel_hp = GridSearchCV(estimator, param_grid, cv = 5)\\nmodel_hp.fit(train_X, train_y)\\n\\n\\nfrom sklearn.linear_model import Lasso\\nlasso_model = Lasso()\\nlasso_model.fit(train_X, train_y)\\n\\ntest_predictions = lasso_model.predict(test_X)\\ntrain_predictions = lasso_model.predict(train_X)\\nfrom sklearn.metrics import mean_squared_error\\ntrain_rmse = np.sqrt(mean_squared_error(test_y, test_predictions))\\ntest_rmse = np.sqrt(mean_squared_error(y_train, train_predictions))\\nprint(\"train RMSE:\", train_rmse)\\nprint(\"test RMSE:\", test_rmse)'"
            ],
            "application/vnd.google.colaboratory.intrinsic+json": {
              "type": "string"
            }
          },
          "metadata": {},
          "execution_count": 137
        }
      ],
      "source": [
        "'''%matplotlib inline\n",
        "from sklearn.linear_model import Ridge\n",
        "\n",
        "ridge_model = Ridge()\n",
        "ridge_model.fit(train_X, train_y)\n",
        "\n",
        "\n",
        "test_predictions = ridge_model.predict(test_X)\n",
        "train_predictions = ridge_model.predict(train_X)\n",
        "\n",
        "\n",
        "from sklearn.model_selection import GridSearchCV\n",
        "estimator = Ridge()\n",
        "estimator = Ridge()\n",
        "param_grid = {\"alpha\":list(range(1,11))}\n",
        "model_hp = GridSearchCV(estimator, param_grid, cv = 5)\n",
        "model_hp.fit(train_X, train_y)\n",
        "\n",
        "\n",
        "from sklearn.linear_model import Lasso\n",
        "lasso_model = Lasso()\n",
        "lasso_model.fit(train_X, train_y)\n",
        "\n",
        "test_predictions = lasso_model.predict(test_X)\n",
        "train_predictions = lasso_model.predict(train_X)\n",
        "from sklearn.metrics import mean_squared_error\n",
        "train_rmse = np.sqrt(mean_squared_error(test_y, test_predictions))\n",
        "test_rmse = np.sqrt(mean_squared_error(y_train, train_predictions))\n",
        "print(\"train RMSE:\", train_rmse)\n",
        "print(\"test RMSE:\", test_rmse)'''"
      ]
    },
    {
      "cell_type": "markdown",
      "metadata": {
        "id": "3_OShLa_8sbk"
      },
      "source": [
        "# **NeuralNets**"
      ]
    },
    {
      "cell_type": "code",
      "execution_count": 138,
      "metadata": {
        "id": "qCAfAGem8vdP"
      },
      "outputs": [],
      "source": [
        "'''\n",
        "\n",
        "In this section we are using deep learning library in Python\n",
        "to creates a model of a neural network in Python using Keras, and analyse it\n",
        "for binary categorization and a stochastic gradient descent (SGD) optimizer.\n",
        "\n",
        "'''\n",
        "\n",
        "from keras.models import Sequential\n",
        "from keras.layers import Dense"
      ]
    },
    {
      "cell_type": "code",
      "execution_count": 139,
      "metadata": {
        "id": "BFECDVVm-D4a"
      },
      "outputs": [],
      "source": [
        "'''\n",
        "Here we iniatilize the Sequential model for storing the neural network layers\n",
        "Adding the dense layer with 20 neuron units and use relu function for non linearity\n",
        "'''\n",
        "model = Sequential()\n",
        "model.add(Dense(units = 20, activation = 'relu'))\n",
        "'''\n",
        "\n",
        "Adding the hidden dense layer with 75 neuron units\n",
        "\n",
        "'''\n",
        "model.add(Dense(units = 75, activation = 'relu'))\n",
        "'''\n",
        "\n",
        "Adding the hidden dense layer with 15 neuron units\n",
        "\n",
        "'''\n",
        "model.add(Dense(units = 15, activation = 'relu'))\n",
        "model.add(Dense(units = 1, activation = 'sigmoid'))\n",
        "sgdOpt = SGD(learning_rate=0.3)"
      ]
    },
    {
      "cell_type": "code",
      "execution_count": 140,
      "metadata": {
        "id": "M2vdTyz0ALgh"
      },
      "outputs": [],
      "source": [
        "'''\n",
        "\n",
        "compling and interpreting the model for binary categorization\n",
        "and a stochastic gradient descent (SGD) optimizer\n",
        "\n",
        "'''\n",
        "model.compile(optimizer=sgdOpt, loss='binary_crossentropy', metrics=\"accuracy\")"
      ]
    },
    {
      "cell_type": "code",
      "execution_count": 141,
      "metadata": {
        "colab": {
          "base_uri": "https://localhost:8080/"
        },
        "id": "3n8R5eJvBEao",
        "outputId": "563b373a-19ff-47f9-ca46-59081bd89f4d"
      },
      "outputs": [
        {
          "output_type": "stream",
          "name": "stdout",
          "text": [
            "Epoch 1/50\n",
            "36/36 [==============================] - 1s 23ms/step - loss: 0.5668 - accuracy: 0.8669\n",
            "Epoch 2/50\n",
            "36/36 [==============================] - 1s 24ms/step - loss: 0.5547 - accuracy: 0.8787\n",
            "Epoch 3/50\n",
            "36/36 [==============================] - 1s 20ms/step - loss: 0.5551 - accuracy: 0.8787\n",
            "Epoch 4/50\n",
            "36/36 [==============================] - 1s 21ms/step - loss: 0.5524 - accuracy: 0.8787\n",
            "Epoch 5/50\n",
            "36/36 [==============================] - 1s 20ms/step - loss: 0.5503 - accuracy: 0.8787\n",
            "Epoch 6/50\n",
            "36/36 [==============================] - 1s 21ms/step - loss: 0.5469 - accuracy: 0.8787\n",
            "Epoch 7/50\n",
            "36/36 [==============================] - 1s 20ms/step - loss: 0.5400 - accuracy: 0.8787\n",
            "Epoch 8/50\n",
            "36/36 [==============================] - 1s 20ms/step - loss: 0.5276 - accuracy: 0.8787\n",
            "Epoch 9/50\n",
            "36/36 [==============================] - 1s 25ms/step - loss: 0.5108 - accuracy: 0.8787\n",
            "Epoch 10/50\n",
            "36/36 [==============================] - 1s 33ms/step - loss: 0.5716 - accuracy: 0.8787\n",
            "Epoch 11/50\n",
            "36/36 [==============================] - 1s 32ms/step - loss: 0.5515 - accuracy: 0.8787\n",
            "Epoch 12/50\n",
            "36/36 [==============================] - 1s 33ms/step - loss: 0.5477 - accuracy: 0.8787\n",
            "Epoch 13/50\n",
            "36/36 [==============================] - 1s 32ms/step - loss: 0.5389 - accuracy: 0.8787\n",
            "Epoch 14/50\n",
            "36/36 [==============================] - 1s 32ms/step - loss: 0.5191 - accuracy: 0.8787\n",
            "Epoch 15/50\n",
            "36/36 [==============================] - 1s 32ms/step - loss: 0.5018 - accuracy: 0.8347\n",
            "Epoch 16/50\n",
            "36/36 [==============================] - 1s 32ms/step - loss: 0.5130 - accuracy: 0.8260\n",
            "Epoch 17/50\n",
            "36/36 [==============================] - 1s 33ms/step - loss: 0.4765 - accuracy: 0.7822\n",
            "Epoch 18/50\n",
            "36/36 [==============================] - 1s 30ms/step - loss: 0.4760 - accuracy: 0.7829\n",
            "Epoch 19/50\n",
            "36/36 [==============================] - 1s 23ms/step - loss: 0.4518 - accuracy: 0.7969\n",
            "Epoch 20/50\n",
            "36/36 [==============================] - 1s 21ms/step - loss: 0.4459 - accuracy: 0.8040\n",
            "Epoch 21/50\n",
            "36/36 [==============================] - 1s 21ms/step - loss: 0.5057 - accuracy: 0.7971\n",
            "Epoch 22/50\n",
            "36/36 [==============================] - 1s 22ms/step - loss: 0.4048 - accuracy: 0.8304\n",
            "Epoch 23/50\n",
            "36/36 [==============================] - 1s 21ms/step - loss: 0.4589 - accuracy: 0.7722\n",
            "Epoch 24/50\n",
            "36/36 [==============================] - 1s 21ms/step - loss: 0.4402 - accuracy: 0.8013\n",
            "Epoch 25/50\n",
            "36/36 [==============================] - 1s 20ms/step - loss: 0.4563 - accuracy: 0.8051\n",
            "Epoch 26/50\n",
            "36/36 [==============================] - 1s 19ms/step - loss: 0.4698 - accuracy: 0.8133\n",
            "Epoch 27/50\n",
            "36/36 [==============================] - 1s 21ms/step - loss: 0.3981 - accuracy: 0.8320\n",
            "Epoch 28/50\n",
            "36/36 [==============================] - 1s 21ms/step - loss: 0.4135 - accuracy: 0.8471\n",
            "Epoch 29/50\n",
            "36/36 [==============================] - 1s 21ms/step - loss: 0.4282 - accuracy: 0.8093\n",
            "Epoch 30/50\n",
            "36/36 [==============================] - 1s 20ms/step - loss: 0.4022 - accuracy: 0.8258\n",
            "Epoch 31/50\n",
            "36/36 [==============================] - 1s 25ms/step - loss: 0.4943 - accuracy: 0.8160\n",
            "Epoch 32/50\n",
            "36/36 [==============================] - 1s 33ms/step - loss: 0.4331 - accuracy: 0.8780\n",
            "Epoch 33/50\n",
            "36/36 [==============================] - 1s 32ms/step - loss: 0.3543 - accuracy: 0.8236\n",
            "Epoch 34/50\n",
            "36/36 [==============================] - 1s 32ms/step - loss: 0.3403 - accuracy: 0.7907\n",
            "Epoch 35/50\n",
            "36/36 [==============================] - 1s 33ms/step - loss: 0.6723 - accuracy: 0.7291\n",
            "Epoch 36/50\n",
            "36/36 [==============================] - 1s 32ms/step - loss: 0.5378 - accuracy: 0.8042\n",
            "Epoch 37/50\n",
            "36/36 [==============================] - 1s 32ms/step - loss: 0.4679 - accuracy: 0.8773\n",
            "Epoch 38/50\n",
            "36/36 [==============================] - 1s 34ms/step - loss: 0.3970 - accuracy: 0.8320\n",
            "Epoch 39/50\n",
            "36/36 [==============================] - 1s 32ms/step - loss: 0.3023 - accuracy: 0.7627\n",
            "Epoch 40/50\n",
            "36/36 [==============================] - 1s 25ms/step - loss: 0.4417 - accuracy: 0.8316\n",
            "Epoch 41/50\n",
            "36/36 [==============================] - 1s 19ms/step - loss: 0.3621 - accuracy: 0.8204\n",
            "Epoch 42/50\n",
            "36/36 [==============================] - 1s 20ms/step - loss: 0.7728 - accuracy: 0.7276\n",
            "Epoch 43/50\n",
            "36/36 [==============================] - 1s 20ms/step - loss: 0.6797 - accuracy: 0.6049\n",
            "Epoch 44/50\n",
            "36/36 [==============================] - 1s 20ms/step - loss: 0.5552 - accuracy: 0.8787\n",
            "Epoch 45/50\n",
            "36/36 [==============================] - 1s 20ms/step - loss: 0.5544 - accuracy: 0.8787\n",
            "Epoch 46/50\n",
            "36/36 [==============================] - 1s 20ms/step - loss: 0.5546 - accuracy: 0.8787\n",
            "Epoch 47/50\n",
            "36/36 [==============================] - 1s 20ms/step - loss: 0.5546 - accuracy: 0.8787\n",
            "Epoch 48/50\n",
            "36/36 [==============================] - 1s 20ms/step - loss: 0.5547 - accuracy: 0.8787\n",
            "Epoch 49/50\n",
            "36/36 [==============================] - 1s 20ms/step - loss: 0.5546 - accuracy: 0.8787\n",
            "Epoch 50/50\n",
            "36/36 [==============================] - 1s 20ms/step - loss: 0.5547 - accuracy: 0.8787\n"
          ]
        }
      ],
      "source": [
        "'''\n",
        "\n",
        "Training the machine learning model for 50 epochs on the training data\n",
        "(train_X and train_y), with 128 samples each group\n",
        "\n",
        "'''\n",
        "history = model.fit(train_X, train_y, epochs=50, batch_size=128)"
      ]
    },
    {
      "cell_type": "code",
      "execution_count": 142,
      "metadata": {
        "colab": {
          "base_uri": "https://localhost:8080/"
        },
        "id": "N4FmjHFogYbb",
        "outputId": "8e61c598-3b38-4523-8161-cb18b70580f8"
      },
      "outputs": [
        {
          "output_type": "stream",
          "name": "stdout",
          "text": [
            "Training MSE: 0.48533333333333334\n",
            "Testing MSE: 0.4\n"
          ]
        }
      ],
      "source": [
        "'''\n",
        "\n",
        "Predicting the outputs for both the training data (train_X) and the test data (test_X)\n",
        "\n",
        "'''\n",
        "# Evaluate Model\n",
        "train_yhat = model.predict(train_X, verbose = 0)\n",
        "test_yhat = model.predict(test_X, verbose = 0)\n",
        "\n",
        "'''\n",
        "\n",
        "Implementing a threshold value to the predicted values (train_yhat and test_yhat)\n",
        "to convert them into binary values (0 or 1) for further analysis\n",
        "\n",
        "'''\n",
        "# Apply threshold to y_hat\n",
        "train_yhat_threshold = np.where(train_yhat > 0.5, 1, 0)  # Convert predictions to 1's or 0's\n",
        "train_yhat_threshold = pd.DataFrame(train_yhat_threshold, columns = [\"Real\"])  # Convert from numpy to pandas\n",
        "\n",
        "# Apply threshold to y_hat\n",
        "test_yhat_threshold = np.where(test_yhat > 0.5, 1, 0)  # Convert predictions to 1's or 0's\n",
        "test_yhat_threshold = pd.DataFrame(test_yhat_threshold, columns = [\"Real\"])  # Convert from numpy to pandas\n",
        "\n",
        "'''\n",
        "\n",
        "Calculating the Mean Squared Error (MSE) between the true labels (train_y and test_y)\n",
        "and the predicted labels (train_yhat_threshold and test_yhat_threshold)\n",
        "Then we are printing the training MSE and testing MSE in order\n",
        "to evaluate the performance of the model on both datasets\n",
        "\n",
        "'''\n",
        "# Output MSE of model\n",
        "train_mse = mean_squared_error(train_y, train_yhat_threshold)\n",
        "test_mse = mean_squared_error(test_y, test_yhat_threshold)\n",
        "print(\"Training MSE: \" + str(train_mse))\n",
        "print(\"Testing MSE: \" + str(test_mse))"
      ]
    },
    {
      "cell_type": "markdown",
      "source": [
        "---------\n"
      ],
      "metadata": {
        "id": "Se5q6wNmr_P8"
      }
    },
    {
      "cell_type": "markdown",
      "metadata": {
        "id": "P6YZ3tH6YP1M"
      },
      "source": [
        "# **Hyperparameter Tuning**"
      ]
    },
    {
      "cell_type": "code",
      "source": [
        "from sklearn.model_selection import GridSearchCV, StratifiedKFold\n",
        "from sklearn.metrics import f1_score\n",
        "from tensorflow.keras.wrappers.scikit_learn import KerasClassifier"
      ],
      "metadata": {
        "id": "nSBbTvwBsA5z"
      },
      "execution_count": 143,
      "outputs": []
    },
    {
      "cell_type": "code",
      "source": [
        "def create_model(num_layers, num_nodes, activation_func, optimizer):\n",
        "    model = Sequential()\n",
        "    model.add(Dense(num_nodes, input_dim=train_X.shape[1], activation=activation_func))\n",
        "\n",
        "    for _ in range(num_layers - 1):\n",
        "        model.add(Dense(num_nodes, activation=activation_func))\n",
        "\n",
        "    model.add(Dense(1, activation='sigmoid'))  # Output layer for binary classification\n",
        "\n",
        "    model.compile(optimizer=optimizer, loss='binary_crossentropy', metrics=['accuracy'])\n",
        "\n",
        "    return model\n"
      ],
      "metadata": {
        "id": "3OhUeZZ1sEqh"
      },
      "execution_count": 144,
      "outputs": []
    },
    {
      "cell_type": "code",
      "source": [
        "model = KerasClassifier(build_fn=create_model, verbose=0)\n"
      ],
      "metadata": {
        "colab": {
          "base_uri": "https://localhost:8080/"
        },
        "id": "T1pGKkplsGdW",
        "outputId": "e6fa2e97-960f-43d2-91ab-b48d6afdb1b5"
      },
      "execution_count": 145,
      "outputs": [
        {
          "output_type": "stream",
          "name": "stderr",
          "text": [
            "<ipython-input-145-7b0f05354f25>:1: DeprecationWarning: KerasClassifier is deprecated, use Sci-Keras (https://github.com/adriangb/scikeras) instead. See https://www.adriangb.com/scikeras/stable/migration.html for help migrating.\n",
            "  model = KerasClassifier(build_fn=create_model, verbose=0)\n"
          ]
        }
      ]
    },
    {
      "cell_type": "code",
      "source": [
        "param_grid = {\n",
        "    'num_layers': [2, 3],\n",
        "    'num_nodes': [64, 128],\n",
        "    'activation_func': ['relu', 'tanh'],\n",
        "    'optimizer': ['adam', 'rmsprop']\n",
        "}"
      ],
      "metadata": {
        "id": "7bGEjTxHsIXD"
      },
      "execution_count": 146,
      "outputs": []
    },
    {
      "cell_type": "code",
      "source": [
        "cv = StratifiedKFold(n_splits=5, shuffle=True, random_state=42)\n"
      ],
      "metadata": {
        "id": "UF1Lt6yAsKUL"
      },
      "execution_count": 147,
      "outputs": []
    },
    {
      "cell_type": "code",
      "source": [
        "grid = GridSearchCV(estimator=model, param_grid=param_grid, scoring='f1', cv=cv, verbose=1)"
      ],
      "metadata": {
        "id": "Cd-ls80fsNXA"
      },
      "execution_count": 148,
      "outputs": []
    },
    {
      "cell_type": "code",
      "source": [
        "grid_result = grid.fit(train_X, train_y)"
      ],
      "metadata": {
        "colab": {
          "base_uri": "https://localhost:8080/"
        },
        "id": "CvztX3mgsPg2",
        "outputId": "dfb3628d-2dd4-451c-f79c-0d7c895b9226"
      },
      "execution_count": 149,
      "outputs": [
        {
          "output_type": "stream",
          "name": "stdout",
          "text": [
            "Fitting 5 folds for each of 16 candidates, totalling 80 fits\n",
            "29/29 [==============================] - 0s 5ms/step\n",
            "29/29 [==============================] - 0s 7ms/step\n",
            "29/29 [==============================] - 0s 7ms/step\n",
            "29/29 [==============================] - 0s 7ms/step\n",
            "29/29 [==============================] - 0s 6ms/step\n",
            "29/29 [==============================] - 0s 7ms/step\n",
            "29/29 [==============================] - 0s 8ms/step\n",
            "29/29 [==============================] - 0s 6ms/step\n",
            "29/29 [==============================] - 0s 7ms/step\n",
            "29/29 [==============================] - 0s 9ms/step\n",
            "29/29 [==============================] - 0s 8ms/step\n",
            "29/29 [==============================] - 1s 13ms/step\n",
            "29/29 [==============================] - 0s 7ms/step\n",
            "29/29 [==============================] - 0s 8ms/step\n",
            "29/29 [==============================] - 0s 12ms/step\n",
            "29/29 [==============================] - 0s 8ms/step\n",
            "29/29 [==============================] - 0s 12ms/step\n",
            "29/29 [==============================] - 0s 9ms/step\n",
            "29/29 [==============================] - 0s 8ms/step\n",
            "29/29 [==============================] - 0s 8ms/step\n",
            "29/29 [==============================] - 0s 7ms/step\n",
            "29/29 [==============================] - 0s 9ms/step\n",
            "29/29 [==============================] - 0s 10ms/step\n",
            "29/29 [==============================] - 0s 6ms/step\n",
            "29/29 [==============================] - 0s 6ms/step\n",
            "29/29 [==============================] - 0s 10ms/step\n",
            "29/29 [==============================] - 0s 9ms/step\n",
            "29/29 [==============================] - 0s 6ms/step\n",
            "29/29 [==============================] - 2s 6ms/step\n",
            "29/29 [==============================] - 0s 7ms/step\n",
            "29/29 [==============================] - 0s 9ms/step\n",
            "29/29 [==============================] - 0s 8ms/step\n",
            "29/29 [==============================] - 0s 11ms/step\n",
            "29/29 [==============================] - 0s 7ms/step\n",
            "29/29 [==============================] - 0s 12ms/step\n",
            "29/29 [==============================] - 0s 7ms/step\n",
            "29/29 [==============================] - 0s 7ms/step\n",
            "29/29 [==============================] - 0s 12ms/step\n",
            "29/29 [==============================] - 0s 7ms/step\n",
            "29/29 [==============================] - 0s 11ms/step\n",
            "29/29 [==============================] - 0s 6ms/step\n",
            "29/29 [==============================] - 0s 6ms/step\n",
            "29/29 [==============================] - 0s 9ms/step\n",
            "29/29 [==============================] - 0s 7ms/step\n",
            "29/29 [==============================] - 0s 7ms/step\n",
            "29/29 [==============================] - 0s 6ms/step\n",
            "29/29 [==============================] - 2s 6ms/step\n",
            "29/29 [==============================] - 0s 6ms/step\n",
            "29/29 [==============================] - 0s 10ms/step\n",
            "29/29 [==============================] - 0s 10ms/step\n",
            "29/29 [==============================] - 0s 7ms/step\n",
            "29/29 [==============================] - 0s 13ms/step\n",
            "29/29 [==============================] - 0s 9ms/step\n",
            "29/29 [==============================] - 0s 8ms/step\n",
            "29/29 [==============================] - 0s 8ms/step\n",
            "29/29 [==============================] - 0s 13ms/step\n",
            "29/29 [==============================] - 0s 8ms/step\n",
            "29/29 [==============================] - 0s 11ms/step\n",
            "29/29 [==============================] - 0s 11ms/step\n",
            "29/29 [==============================] - 0s 8ms/step\n",
            "29/29 [==============================] - 0s 10ms/step\n",
            "29/29 [==============================] - 0s 6ms/step\n",
            "29/29 [==============================] - 0s 6ms/step\n",
            "29/29 [==============================] - 0s 9ms/step\n",
            "29/29 [==============================] - 0s 6ms/step\n",
            "29/29 [==============================] - 0s 7ms/step\n",
            "29/29 [==============================] - 0s 6ms/step\n",
            "29/29 [==============================] - 0s 6ms/step\n",
            "29/29 [==============================] - 0s 10ms/step\n",
            "29/29 [==============================] - 0s 8ms/step\n",
            "29/29 [==============================] - 0s 8ms/step\n",
            "29/29 [==============================] - 0s 13ms/step\n",
            "29/29 [==============================] - 0s 7ms/step\n",
            "29/29 [==============================] - 0s 11ms/step\n",
            "29/29 [==============================] - 0s 8ms/step\n",
            "29/29 [==============================] - 0s 13ms/step\n",
            "29/29 [==============================] - 0s 8ms/step\n",
            "29/29 [==============================] - 0s 7ms/step\n",
            "29/29 [==============================] - 0s 11ms/step\n",
            "29/29 [==============================] - 0s 7ms/step\n"
          ]
        }
      ]
    },
    {
      "cell_type": "code",
      "source": [
        "print(\"Best Parameters: \", grid_result.best_params_)\n",
        "print(\"Best F1 Score: {:.4f}\".format(grid_result.best_score_))\n"
      ],
      "metadata": {
        "colab": {
          "base_uri": "https://localhost:8080/"
        },
        "id": "I5Gw1yXYsRWR",
        "outputId": "2c59bd9c-99f9-48ac-968a-7bc192ca3acb"
      },
      "execution_count": 150,
      "outputs": [
        {
          "output_type": "stream",
          "name": "stdout",
          "text": [
            "Best Parameters:  {'activation_func': 'tanh', 'num_layers': 3, 'num_nodes': 128, 'optimizer': 'rmsprop'}\n",
            "Best F1 Score: 0.9356\n"
          ]
        }
      ]
    },
    {
      "cell_type": "code",
      "source": [
        "best_model = grid_result.best_estimator_"
      ],
      "metadata": {
        "id": "xmHrzSAHsTth"
      },
      "execution_count": 151,
      "outputs": []
    },
    {
      "cell_type": "code",
      "source": [
        "test_predictions = best_model.predict(test_X)\n",
        "test_f1_score = f1_score(test_y, test_predictions)\n",
        "print(\"F1 Score on Test Data: {:.4f}\".format(test_f1_score))\n"
      ],
      "metadata": {
        "colab": {
          "base_uri": "https://localhost:8080/"
        },
        "id": "1oRT3KuDsV5X",
        "outputId": "b50a357c-9f3e-493e-bced-fc04311a7d91"
      },
      "execution_count": 152,
      "outputs": [
        {
          "output_type": "stream",
          "name": "stdout",
          "text": [
            "16/16 [==============================] - 0s 10ms/step\n",
            "F1 Score on Test Data: 0.9484\n"
          ]
        }
      ]
    },
    {
      "cell_type": "code",
      "source": [
        "# Make it so that 0 corresponds to fake review instead of -1\n",
        "test_y[test_y == -1] = 0\n",
        "test_predictions[test_predictions == -1] = 0"
      ],
      "metadata": {
        "id": "zjEDefNOiLg5"
      },
      "execution_count": 153,
      "outputs": []
    },
    {
      "cell_type": "code",
      "source": [
        "# Print classification report\n",
        "from sklearn.metrics import classification_report\n",
        "report = classification_report(test_y, test_predictions)\n",
        "print(report)"
      ],
      "metadata": {
        "colab": {
          "base_uri": "https://localhost:8080/"
        },
        "id": "fpit50FtukRP",
        "outputId": "bd9dfca9-0a3d-45ec-9b4f-382eaa157e59"
      },
      "execution_count": 154,
      "outputs": [
        {
          "output_type": "stream",
          "name": "stdout",
          "text": [
            "              precision    recall  f1-score   support\n",
            "\n",
            "           0       1.00      0.02      0.04        50\n",
            "           1       0.90      1.00      0.95       450\n",
            "\n",
            "    accuracy                           0.90       500\n",
            "   macro avg       0.95      0.51      0.49       500\n",
            "weighted avg       0.91      0.90      0.86       500\n",
            "\n"
          ]
        }
      ]
    },
    {
      "cell_type": "code",
      "source": [
        "# Create confusion matrix\n",
        "from sklearn.metrics import confusion_matrix\n",
        "from sklearn.metrics._plot.confusion_matrix import ConfusionMatrixDisplay\n",
        "cm = confusion_matrix(test_y, test_predictions)\n",
        "cm_plot = ConfusionMatrixDisplay(confusion_matrix=cm)\n",
        "cm_plot.plot()\n",
        "plt.title(\"Yelp Review Confusion Matrix\")\n",
        "plt.show()"
      ],
      "metadata": {
        "id": "klg8A7_ipS6U",
        "outputId": "bb6f0865-822a-438a-f697-520e52859bd7",
        "colab": {
          "base_uri": "https://localhost:8080/",
          "height": 472
        }
      },
      "execution_count": 155,
      "outputs": [
        {
          "output_type": "display_data",
          "data": {
            "text/plain": [
              "<Figure size 640x480 with 2 Axes>"
            ],
            "image/png": "[encoded data removed]"
          },
          "metadata": {}
        }
      ]
    }
  ],
  "metadata": {
    "colab": {
      "provenance": []
    },
    "kernelspec": {
      "display_name": "Python 3",
      "name": "python3"
    },
    "language_info": {
      "name": "python"
    },
    "accelerator": "TPU"
  },
  "nbformat": 4,
  "nbformat_minor": 0
}